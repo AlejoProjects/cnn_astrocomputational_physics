{
 "cells": [
  {
   "cell_type": "code",
   "execution_count": 1,
   "id": "d6e90de4-a8ef-42d4-ab24-a8042eaf8cd8",
   "metadata": {},
   "outputs": [
    {
     "name": "stderr",
     "output_type": "stream",
     "text": [
      "C:\\Users\\alejo\\anaconda3\\envs\\ai\\Lib\\site-packages\\h5py\\__init__.py:36: UserWarning: h5py is running against HDF5 1.14.6 when it was built against 1.14.5, this may cause problems\n",
      "  _warn((\"h5py is running against HDF5 {0} when it was built against {1}, \"\n"
     ]
    }
   ],
   "source": [
    "# Make tensorflow logs less verbose\n",
    "import tqdm\n",
    "import numpy as np\n",
    "from PIL import Image\n",
    "import matplotlib.pyplot as plt\n",
    "import tensorflow as tf\n",
    "# Import PyTorch libraries\n",
    "import torch\n",
    "import torch.nn as nn\n",
    "import torch.optim as optim\n",
    "from torch.utils.data import TensorDataset, DataLoader\n",
    "\n",
    "from sklearn.datasets import load_files\n",
    "from sklearn.model_selection import train_test_split\n",
    "from sklearn.metrics import (\n",
    "    accuracy_score, roc_curve, auc, ConfusionMatrixDisplay, confusion_matrix\n",
    ")\n",
    "\n"
   ]
  },
  {
   "cell_type": "code",
   "execution_count": 2,
   "id": "5d498197-b3be-4bbc-ae51-2a9fb03c90fe",
   "metadata": {},
   "outputs": [
    {
     "name": "stdout",
     "output_type": "stream",
     "text": [
      "[3 1 0 ... 1 2 3]\n",
      "['binary_star', 'exoplanet', 'normal_star', 'pulsating_star']\n",
      "['.\\\\pulsating_star\\\\471_light_curve.png' '.\\\\exoplanet\\\\transit_25.png'\n",
      " '.\\\\binary_star\\\\11_light_curve.png' ...\n",
      " '.\\\\exoplanet\\\\160_light_curve.png' '.\\\\normal_star\\\\278_light_curve.png'\n",
      " '.\\\\pulsating_star\\\\115_light_curve.png']\n"
     ]
    }
   ],
   "source": [
    "\n",
    "# ─── 1) DISCOVER IMAGES & MULTI-CLASS LABELS ──────────────────────────────────\n",
    "# load_files es un metodo de sickit_Learn, se dan las categorias.\n",
    "data = load_files(\n",
    "    container_path='.',\n",
    "    categories=['binary_star', 'exoplanet','normal_star', 'pulsating_star'],\n",
    "    load_content=False,\n",
    "    shuffle=True,\n",
    "    random_state=413\n",
    ")\n",
    "file_paths = np.array(data['filenames'])\n",
    "orig_targets = data['target']\n",
    "target_names = data['target_names']\n",
    "print(orig_targets)\n",
    "print(target_names)\n",
    "print(file_paths)\n"
   ]
  },
  {
   "cell_type": "code",
   "execution_count": 3,
   "id": "40f3d083-27d7-49c6-9e4a-a3de3bea61d4",
   "metadata": {},
   "outputs": [],
   "source": [
    "\n",
    "# ─── 2) BUILD BINARY LABELS ───────────────────────────────────────────────────\n",
    "# 1 for exoplanet, 0 for everything else. This is also unchanged.\n",
    "y = np.array([1 if target_names[t] == 'exoplanet' else 0\n",
    "              for t in orig_targets], dtype=int)\n"
   ]
  },
  {
   "cell_type": "code",
   "execution_count": 4,
   "id": "22a2c620-96b0-44f6-9557-f05207d6b096",
   "metadata": {},
   "outputs": [],
   "source": [
    "# ─── 3) LOAD & PREPROCESS IMAGES FOR CNN ─────────────────────────────────────\n",
    "# We load images, convert to grayscale, and resize.\n",
    "# CRITICAL CHANGE: We DO NOT flatten them. CNNs need the 2D shape.\n",
    "images = []\n",
    "for fp in file_paths:\n",
    "    img = (Image.open(fp)\n",
    "           .convert('L')  # grayscale\n",
    "           .resize((128, 128), Image.Resampling.LANCZOS))\n",
    "    images.append(np.array(img, dtype=np.float32))\n",
    "\n",
    "# Convert the list of images to a single 4D numpy array\n",
    "# Shape will be (n_samples, height, width, channels)\n",
    "X = np.array(images)"
   ]
  },
  {
   "cell_type": "code",
   "execution_count": 5,
   "id": "8fa33ef3-1a51-4167-a48e-8da27a3187eb",
   "metadata": {},
   "outputs": [
    {
     "name": "stdout",
     "output_type": "stream",
     "text": [
      "[[[1.        ]\n",
      "  [1.        ]\n",
      "  [1.        ]\n",
      "  ...\n",
      "  [1.        ]\n",
      "  [1.        ]\n",
      "  [1.        ]]\n",
      "\n",
      " [[1.        ]\n",
      "  [1.        ]\n",
      "  [1.        ]\n",
      "  ...\n",
      "  [1.        ]\n",
      "  [1.        ]\n",
      "  [1.        ]]\n",
      "\n",
      " [[1.        ]\n",
      "  [1.        ]\n",
      "  [1.        ]\n",
      "  ...\n",
      "  [1.        ]\n",
      "  [1.        ]\n",
      "  [1.        ]]\n",
      "\n",
      " ...\n",
      "\n",
      " [[1.        ]\n",
      "  [1.        ]\n",
      "  [1.        ]\n",
      "  ...\n",
      "  [1.        ]\n",
      "  [1.        ]\n",
      "  [1.        ]]\n",
      "\n",
      " [[1.        ]\n",
      "  [1.        ]\n",
      "  [1.        ]\n",
      "  ...\n",
      "  [0.99607843]\n",
      "  [1.        ]\n",
      "  [1.        ]]\n",
      "\n",
      " [[1.        ]\n",
      "  [1.        ]\n",
      "  [1.        ]\n",
      "  ...\n",
      "  [1.        ]\n",
      "  [1.        ]\n",
      "  [1.        ]]]\n"
     ]
    }
   ],
   "source": [
    "\n",
    "# ─── 4) SCALE PIXELS & RESHAPE FOR TENSORFLOW ────────────────────────────────\n",
    "# Scale pixel values from [0, 255] to [0, 1] for better NN performance\n",
    "X_scaled = X / 255.0\n",
    "\n",
    "# Add a 'channels' dimension at the end. For grayscale, this is 1.\n",
    "# The final shape will be (n_samples, 28, 28, 1)\n",
    "X_scaled = np.expand_dims(X_scaled, axis=-1)\n",
    "print(X_scaled[0])"
   ]
  },
  {
   "cell_type": "code",
   "execution_count": 6,
   "id": "f3f5c47a-396b-49f7-85e5-4300a354f2f1",
   "metadata": {},
   "outputs": [
    {
     "name": "stdout",
     "output_type": "stream",
     "text": [
      "Training data shape: (2081, 128, 128, 1)\n",
      "Test data shape: (521, 128, 128, 1)\n"
     ]
    }
   ],
   "source": [
    "\n",
    "# ─── 5) TRAIN/TEST SPLIT ─────────────────────────────────────────────────────\n",
    "# x is the features(images)\n",
    "# y is the labels, the ground truth: the class for each image. in this case 1 or 0(exoplanet or not)\n",
    "X_train, X_test, y_train, y_test = train_test_split(\n",
    "    X_scaled, y,\n",
    "    test_size=0.2,\n",
    "    random_state=413,\n",
    "    stratify=y  # Ensures train/test sets have proportional classes\n",
    ")\n",
    "\n",
    "print(f\"Training data shape: {X_train.shape}\")\n",
    "print(f\"Test data shape: {X_test.shape}\")\n"
   ]
  },
  {
   "cell_type": "code",
   "execution_count": 7,
   "id": "c81ed8de-cfa5-41da-a5f5-6c9c7d170d82",
   "metadata": {},
   "outputs": [],
   "source": [
    "#Two separate the arrays as we desire: \n",
    "\n",
    "#indices = np.arange(len(X_scaled))\n",
    "#train_idx, test_idx = train_test_split(\n",
    "#    indices,\n",
    "#    test_size=0.2,\n",
    "#    random_state=413,\n",
    "#    stratify=y\n",
    "#)\n",
    "\n",
    "# Now you can do:\n",
    "#X_train = X_scaled[train_idx]\n",
    "#y_train = y[train_idx]\n",
    "#X_test  = X_scaled[test_idx]\n",
    "#y_test  = y[test_idx]\n",
    "\n",
    "#print(\"Train indices:\", train_idx)\n",
    "#print(\"Test indices: \", test_idx)"
   ]
  },
  {
   "cell_type": "code",
   "execution_count": 8,
   "id": "534bdbd3-0776-4053-99de-adb294b27cb7",
   "metadata": {},
   "outputs": [
    {
     "data": {
      "text/html": [
       "<pre style=\"white-space:pre;overflow-x:auto;line-height:normal;font-family:Menlo,'DejaVu Sans Mono',consolas,'Courier New',monospace\"><span style=\"font-weight: bold\">Model: \"sequential\"</span>\n",
       "</pre>\n"
      ],
      "text/plain": [
       "\u001b[1mModel: \"sequential\"\u001b[0m\n"
      ]
     },
     "metadata": {},
     "output_type": "display_data"
    },
    {
     "data": {
      "text/html": [
       "<pre style=\"white-space:pre;overflow-x:auto;line-height:normal;font-family:Menlo,'DejaVu Sans Mono',consolas,'Courier New',monospace\">┏━━━━━━━━━━━━━━━━━━━━━━━━━━━━━━━━━━━━━━┳━━━━━━━━━━━━━━━━━━━━━━━━━━━━━┳━━━━━━━━━━━━━━━━━┓\n",
       "┃<span style=\"font-weight: bold\"> Layer (type)                         </span>┃<span style=\"font-weight: bold\"> Output Shape                </span>┃<span style=\"font-weight: bold\">         Param # </span>┃\n",
       "┡━━━━━━━━━━━━━━━━━━━━━━━━━━━━━━━━━━━━━━╇━━━━━━━━━━━━━━━━━━━━━━━━━━━━━╇━━━━━━━━━━━━━━━━━┩\n",
       "│ conv2d (<span style=\"color: #0087ff; text-decoration-color: #0087ff\">Conv2D</span>)                      │ (<span style=\"color: #00d7ff; text-decoration-color: #00d7ff\">None</span>, <span style=\"color: #00af00; text-decoration-color: #00af00\">128</span>, <span style=\"color: #00af00; text-decoration-color: #00af00\">128</span>, <span style=\"color: #00af00; text-decoration-color: #00af00\">32</span>)        │             <span style=\"color: #00af00; text-decoration-color: #00af00\">320</span> │\n",
       "├──────────────────────────────────────┼─────────────────────────────┼─────────────────┤\n",
       "│ max_pooling2d (<span style=\"color: #0087ff; text-decoration-color: #0087ff\">MaxPooling2D</span>)         │ (<span style=\"color: #00d7ff; text-decoration-color: #00d7ff\">None</span>, <span style=\"color: #00af00; text-decoration-color: #00af00\">64</span>, <span style=\"color: #00af00; text-decoration-color: #00af00\">64</span>, <span style=\"color: #00af00; text-decoration-color: #00af00\">32</span>)          │               <span style=\"color: #00af00; text-decoration-color: #00af00\">0</span> │\n",
       "├──────────────────────────────────────┼─────────────────────────────┼─────────────────┤\n",
       "│ conv2d_1 (<span style=\"color: #0087ff; text-decoration-color: #0087ff\">Conv2D</span>)                    │ (<span style=\"color: #00d7ff; text-decoration-color: #00d7ff\">None</span>, <span style=\"color: #00af00; text-decoration-color: #00af00\">64</span>, <span style=\"color: #00af00; text-decoration-color: #00af00\">64</span>, <span style=\"color: #00af00; text-decoration-color: #00af00\">64</span>)          │          <span style=\"color: #00af00; text-decoration-color: #00af00\">18,496</span> │\n",
       "├──────────────────────────────────────┼─────────────────────────────┼─────────────────┤\n",
       "│ max_pooling2d_1 (<span style=\"color: #0087ff; text-decoration-color: #0087ff\">MaxPooling2D</span>)       │ (<span style=\"color: #00d7ff; text-decoration-color: #00d7ff\">None</span>, <span style=\"color: #00af00; text-decoration-color: #00af00\">32</span>, <span style=\"color: #00af00; text-decoration-color: #00af00\">32</span>, <span style=\"color: #00af00; text-decoration-color: #00af00\">64</span>)          │               <span style=\"color: #00af00; text-decoration-color: #00af00\">0</span> │\n",
       "├──────────────────────────────────────┼─────────────────────────────┼─────────────────┤\n",
       "│ conv2d_2 (<span style=\"color: #0087ff; text-decoration-color: #0087ff\">Conv2D</span>)                    │ (<span style=\"color: #00d7ff; text-decoration-color: #00d7ff\">None</span>, <span style=\"color: #00af00; text-decoration-color: #00af00\">32</span>, <span style=\"color: #00af00; text-decoration-color: #00af00\">32</span>, <span style=\"color: #00af00; text-decoration-color: #00af00\">128</span>)         │          <span style=\"color: #00af00; text-decoration-color: #00af00\">73,856</span> │\n",
       "├──────────────────────────────────────┼─────────────────────────────┼─────────────────┤\n",
       "│ max_pooling2d_2 (<span style=\"color: #0087ff; text-decoration-color: #0087ff\">MaxPooling2D</span>)       │ (<span style=\"color: #00d7ff; text-decoration-color: #00d7ff\">None</span>, <span style=\"color: #00af00; text-decoration-color: #00af00\">16</span>, <span style=\"color: #00af00; text-decoration-color: #00af00\">16</span>, <span style=\"color: #00af00; text-decoration-color: #00af00\">128</span>)         │               <span style=\"color: #00af00; text-decoration-color: #00af00\">0</span> │\n",
       "├──────────────────────────────────────┼─────────────────────────────┼─────────────────┤\n",
       "│ global_average_pooling2d             │ (<span style=\"color: #00d7ff; text-decoration-color: #00d7ff\">None</span>, <span style=\"color: #00af00; text-decoration-color: #00af00\">128</span>)                 │               <span style=\"color: #00af00; text-decoration-color: #00af00\">0</span> │\n",
       "│ (<span style=\"color: #0087ff; text-decoration-color: #0087ff\">GlobalAveragePooling2D</span>)             │                             │                 │\n",
       "├──────────────────────────────────────┼─────────────────────────────┼─────────────────┤\n",
       "│ dense (<span style=\"color: #0087ff; text-decoration-color: #0087ff\">Dense</span>)                        │ (<span style=\"color: #00d7ff; text-decoration-color: #00d7ff\">None</span>, <span style=\"color: #00af00; text-decoration-color: #00af00\">64</span>)                  │           <span style=\"color: #00af00; text-decoration-color: #00af00\">8,256</span> │\n",
       "├──────────────────────────────────────┼─────────────────────────────┼─────────────────┤\n",
       "│ dropout (<span style=\"color: #0087ff; text-decoration-color: #0087ff\">Dropout</span>)                    │ (<span style=\"color: #00d7ff; text-decoration-color: #00d7ff\">None</span>, <span style=\"color: #00af00; text-decoration-color: #00af00\">64</span>)                  │               <span style=\"color: #00af00; text-decoration-color: #00af00\">0</span> │\n",
       "├──────────────────────────────────────┼─────────────────────────────┼─────────────────┤\n",
       "│ dense_1 (<span style=\"color: #0087ff; text-decoration-color: #0087ff\">Dense</span>)                      │ (<span style=\"color: #00d7ff; text-decoration-color: #00d7ff\">None</span>, <span style=\"color: #00af00; text-decoration-color: #00af00\">1</span>)                   │              <span style=\"color: #00af00; text-decoration-color: #00af00\">65</span> │\n",
       "└──────────────────────────────────────┴─────────────────────────────┴─────────────────┘\n",
       "</pre>\n"
      ],
      "text/plain": [
       "┏━━━━━━━━━━━━━━━━━━━━━━━━━━━━━━━━━━━━━━┳━━━━━━━━━━━━━━━━━━━━━━━━━━━━━┳━━━━━━━━━━━━━━━━━┓\n",
       "┃\u001b[1m \u001b[0m\u001b[1mLayer (type)                        \u001b[0m\u001b[1m \u001b[0m┃\u001b[1m \u001b[0m\u001b[1mOutput Shape               \u001b[0m\u001b[1m \u001b[0m┃\u001b[1m \u001b[0m\u001b[1m        Param #\u001b[0m\u001b[1m \u001b[0m┃\n",
       "┡━━━━━━━━━━━━━━━━━━━━━━━━━━━━━━━━━━━━━━╇━━━━━━━━━━━━━━━━━━━━━━━━━━━━━╇━━━━━━━━━━━━━━━━━┩\n",
       "│ conv2d (\u001b[38;5;33mConv2D\u001b[0m)                      │ (\u001b[38;5;45mNone\u001b[0m, \u001b[38;5;34m128\u001b[0m, \u001b[38;5;34m128\u001b[0m, \u001b[38;5;34m32\u001b[0m)        │             \u001b[38;5;34m320\u001b[0m │\n",
       "├──────────────────────────────────────┼─────────────────────────────┼─────────────────┤\n",
       "│ max_pooling2d (\u001b[38;5;33mMaxPooling2D\u001b[0m)         │ (\u001b[38;5;45mNone\u001b[0m, \u001b[38;5;34m64\u001b[0m, \u001b[38;5;34m64\u001b[0m, \u001b[38;5;34m32\u001b[0m)          │               \u001b[38;5;34m0\u001b[0m │\n",
       "├──────────────────────────────────────┼─────────────────────────────┼─────────────────┤\n",
       "│ conv2d_1 (\u001b[38;5;33mConv2D\u001b[0m)                    │ (\u001b[38;5;45mNone\u001b[0m, \u001b[38;5;34m64\u001b[0m, \u001b[38;5;34m64\u001b[0m, \u001b[38;5;34m64\u001b[0m)          │          \u001b[38;5;34m18,496\u001b[0m │\n",
       "├──────────────────────────────────────┼─────────────────────────────┼─────────────────┤\n",
       "│ max_pooling2d_1 (\u001b[38;5;33mMaxPooling2D\u001b[0m)       │ (\u001b[38;5;45mNone\u001b[0m, \u001b[38;5;34m32\u001b[0m, \u001b[38;5;34m32\u001b[0m, \u001b[38;5;34m64\u001b[0m)          │               \u001b[38;5;34m0\u001b[0m │\n",
       "├──────────────────────────────────────┼─────────────────────────────┼─────────────────┤\n",
       "│ conv2d_2 (\u001b[38;5;33mConv2D\u001b[0m)                    │ (\u001b[38;5;45mNone\u001b[0m, \u001b[38;5;34m32\u001b[0m, \u001b[38;5;34m32\u001b[0m, \u001b[38;5;34m128\u001b[0m)         │          \u001b[38;5;34m73,856\u001b[0m │\n",
       "├──────────────────────────────────────┼─────────────────────────────┼─────────────────┤\n",
       "│ max_pooling2d_2 (\u001b[38;5;33mMaxPooling2D\u001b[0m)       │ (\u001b[38;5;45mNone\u001b[0m, \u001b[38;5;34m16\u001b[0m, \u001b[38;5;34m16\u001b[0m, \u001b[38;5;34m128\u001b[0m)         │               \u001b[38;5;34m0\u001b[0m │\n",
       "├──────────────────────────────────────┼─────────────────────────────┼─────────────────┤\n",
       "│ global_average_pooling2d             │ (\u001b[38;5;45mNone\u001b[0m, \u001b[38;5;34m128\u001b[0m)                 │               \u001b[38;5;34m0\u001b[0m │\n",
       "│ (\u001b[38;5;33mGlobalAveragePooling2D\u001b[0m)             │                             │                 │\n",
       "├──────────────────────────────────────┼─────────────────────────────┼─────────────────┤\n",
       "│ dense (\u001b[38;5;33mDense\u001b[0m)                        │ (\u001b[38;5;45mNone\u001b[0m, \u001b[38;5;34m64\u001b[0m)                  │           \u001b[38;5;34m8,256\u001b[0m │\n",
       "├──────────────────────────────────────┼─────────────────────────────┼─────────────────┤\n",
       "│ dropout (\u001b[38;5;33mDropout\u001b[0m)                    │ (\u001b[38;5;45mNone\u001b[0m, \u001b[38;5;34m64\u001b[0m)                  │               \u001b[38;5;34m0\u001b[0m │\n",
       "├──────────────────────────────────────┼─────────────────────────────┼─────────────────┤\n",
       "│ dense_1 (\u001b[38;5;33mDense\u001b[0m)                      │ (\u001b[38;5;45mNone\u001b[0m, \u001b[38;5;34m1\u001b[0m)                   │              \u001b[38;5;34m65\u001b[0m │\n",
       "└──────────────────────────────────────┴─────────────────────────────┴─────────────────┘\n"
      ]
     },
     "metadata": {},
     "output_type": "display_data"
    },
    {
     "data": {
      "text/html": [
       "<pre style=\"white-space:pre;overflow-x:auto;line-height:normal;font-family:Menlo,'DejaVu Sans Mono',consolas,'Courier New',monospace\"><span style=\"font-weight: bold\"> Total params: </span><span style=\"color: #00af00; text-decoration-color: #00af00\">100,993</span> (394.50 KB)\n",
       "</pre>\n"
      ],
      "text/plain": [
       "\u001b[1m Total params: \u001b[0m\u001b[38;5;34m100,993\u001b[0m (394.50 KB)\n"
      ]
     },
     "metadata": {},
     "output_type": "display_data"
    },
    {
     "data": {
      "text/html": [
       "<pre style=\"white-space:pre;overflow-x:auto;line-height:normal;font-family:Menlo,'DejaVu Sans Mono',consolas,'Courier New',monospace\"><span style=\"font-weight: bold\"> Trainable params: </span><span style=\"color: #00af00; text-decoration-color: #00af00\">100,993</span> (394.50 KB)\n",
       "</pre>\n"
      ],
      "text/plain": [
       "\u001b[1m Trainable params: \u001b[0m\u001b[38;5;34m100,993\u001b[0m (394.50 KB)\n"
      ]
     },
     "metadata": {},
     "output_type": "display_data"
    },
    {
     "data": {
      "text/html": [
       "<pre style=\"white-space:pre;overflow-x:auto;line-height:normal;font-family:Menlo,'DejaVu Sans Mono',consolas,'Courier New',monospace\"><span style=\"font-weight: bold\"> Non-trainable params: </span><span style=\"color: #00af00; text-decoration-color: #00af00\">0</span> (0.00 B)\n",
       "</pre>\n"
      ],
      "text/plain": [
       "\u001b[1m Non-trainable params: \u001b[0m\u001b[38;5;34m0\u001b[0m (0.00 B)\n"
      ]
     },
     "metadata": {},
     "output_type": "display_data"
    }
   ],
   "source": [
    "### Test\n",
    "model = tf.keras.Sequential([\n",
    "    tf.keras.layers.Input((128, 128, 1)),\n",
    "\n",
    "    tf.keras.layers.Conv2D(32, 3, padding='same', activation='relu'),\n",
    "    tf.keras.layers.MaxPooling2D(),\n",
    "\n",
    "    tf.keras.layers.Conv2D(64, 3, padding='same', activation='relu'),\n",
    "    tf.keras.layers.MaxPooling2D(),\n",
    "\n",
    "    # You can add a third conv block for a bit more capacity:\n",
    "    tf.keras.layers.Conv2D(128, 3, padding='same', activation='relu'),\n",
    "    tf.keras.layers.MaxPooling2D(),\n",
    "\n",
    "    tf.keras.layers.GlobalAveragePooling2D(),\n",
    "\n",
    "    tf.keras.layers.Dense(64, activation='relu'),\n",
    "    tf.keras.layers.Dropout(0.3),            # <— helps prevent over-fitting\n",
    "    tf.keras.layers.Dense(1, activation='sigmoid')\n",
    "])\n",
    "model.compile(\n",
    "    optimizer='adam',\n",
    "    loss='binary_crossentropy',\n",
    "    metrics=['accuracy']\n",
    ")\n",
    "\n",
    "model.summary()\n"
   ]
  },
  {
   "cell_type": "code",
   "execution_count": null,
   "id": "ab14c766-7b2d-43ac-8b11-bf06b132849c",
   "metadata": {},
   "outputs": [
    {
     "name": "stdout",
     "output_type": "stream",
     "text": [
      "\n",
      "--- Starting Model Training ---\n",
      "Epoch 1/80\n",
      "\u001b[1m66/66\u001b[0m \u001b[32m━━━━━━━━━━━━━━━━━━━━\u001b[0m\u001b[37m\u001b[0m \u001b[1m16s\u001b[0m 216ms/step - accuracy: 0.6163 - loss: 0.6478 - val_accuracy: 0.8695 - val_loss: 0.3016\n",
      "Epoch 2/80\n",
      "\u001b[1m66/66\u001b[0m \u001b[32m━━━━━━━━━━━━━━━━━━━━\u001b[0m\u001b[37m\u001b[0m \u001b[1m14s\u001b[0m 210ms/step - accuracy: 0.8362 - loss: 0.4138 - val_accuracy: 0.8868 - val_loss: 0.2496\n",
      "Epoch 3/80\n",
      "\u001b[1m66/66\u001b[0m \u001b[32m━━━━━━━━━━━━━━━━━━━━\u001b[0m\u001b[37m\u001b[0m \u001b[1m14s\u001b[0m 211ms/step - accuracy: 0.9175 - loss: 0.2357 - val_accuracy: 0.8887 - val_loss: 0.2235\n",
      "Epoch 4/80\n",
      "\u001b[1m66/66\u001b[0m \u001b[32m━━━━━━━━━━━━━━━━━━━━\u001b[0m\u001b[37m\u001b[0m \u001b[1m14s\u001b[0m 209ms/step - accuracy: 0.9236 - loss: 0.2061 - val_accuracy: 0.9367 - val_loss: 0.1536\n",
      "Epoch 5/80\n",
      "\u001b[1m66/66\u001b[0m \u001b[32m━━━━━━━━━━━━━━━━━━━━\u001b[0m\u001b[37m\u001b[0m \u001b[1m14s\u001b[0m 211ms/step - accuracy: 0.9497 - loss: 0.1427 - val_accuracy: 0.9597 - val_loss: 0.1081\n",
      "Epoch 6/80\n",
      "\u001b[1m66/66\u001b[0m \u001b[32m━━━━━━━━━━━━━━━━━━━━\u001b[0m\u001b[37m\u001b[0m \u001b[1m14s\u001b[0m 208ms/step - accuracy: 0.9513 - loss: 0.1267 - val_accuracy: 0.9309 - val_loss: 0.1286\n",
      "Epoch 7/80\n",
      "\u001b[1m66/66\u001b[0m \u001b[32m━━━━━━━━━━━━━━━━━━━━\u001b[0m\u001b[37m\u001b[0m \u001b[1m14s\u001b[0m 211ms/step - accuracy: 0.9672 - loss: 0.0953 - val_accuracy: 0.9559 - val_loss: 0.1111\n",
      "Epoch 8/80\n",
      "\u001b[1m66/66\u001b[0m \u001b[32m━━━━━━━━━━━━━━━━━━━━\u001b[0m\u001b[37m\u001b[0m \u001b[1m14s\u001b[0m 213ms/step - accuracy: 0.9558 - loss: 0.1202 - val_accuracy: 0.7562 - val_loss: 0.3904\n",
      "Epoch 9/80\n",
      "\u001b[1m66/66\u001b[0m \u001b[32m━━━━━━━━━━━━━━━━━━━━\u001b[0m\u001b[37m\u001b[0m \u001b[1m15s\u001b[0m 231ms/step - accuracy: 0.8730 - loss: 0.2609 - val_accuracy: 0.9520 - val_loss: 0.1190\n",
      "Epoch 10/80\n",
      "\u001b[1m66/66\u001b[0m \u001b[32m━━━━━━━━━━━━━━━━━━━━\u001b[0m\u001b[37m\u001b[0m \u001b[1m16s\u001b[0m 238ms/step - accuracy: 0.9787 - loss: 0.0831 - val_accuracy: 0.9827 - val_loss: 0.0665\n",
      "Epoch 11/80\n",
      "\u001b[1m66/66\u001b[0m \u001b[32m━━━━━━━━━━━━━━━━━━━━\u001b[0m\u001b[37m\u001b[0m \u001b[1m15s\u001b[0m 234ms/step - accuracy: 0.9834 - loss: 0.0590 - val_accuracy: 0.9789 - val_loss: 0.0614\n",
      "Epoch 12/80\n",
      "\u001b[1m66/66\u001b[0m \u001b[32m━━━━━━━━━━━━━━━━━━━━\u001b[0m\u001b[37m\u001b[0m \u001b[1m15s\u001b[0m 231ms/step - accuracy: 0.9818 - loss: 0.0577 - val_accuracy: 0.9846 - val_loss: 0.0488\n",
      "Epoch 13/80\n",
      "\u001b[1m66/66\u001b[0m \u001b[32m━━━━━━━━━━━━━━━━━━━━\u001b[0m\u001b[37m\u001b[0m \u001b[1m15s\u001b[0m 228ms/step - accuracy: 0.9825 - loss: 0.0624 - val_accuracy: 0.9712 - val_loss: 0.0796\n",
      "Epoch 14/80\n",
      "\u001b[1m66/66\u001b[0m \u001b[32m━━━━━━━━━━━━━━━━━━━━\u001b[0m\u001b[37m\u001b[0m \u001b[1m15s\u001b[0m 223ms/step - accuracy: 0.9721 - loss: 0.0742 - val_accuracy: 0.9846 - val_loss: 0.0503\n",
      "Epoch 15/80\n",
      "\u001b[1m65/66\u001b[0m \u001b[32m━━━━━━━━━━━━━━━━━━━\u001b[0m\u001b[37m━\u001b[0m \u001b[1m0s\u001b[0m 237ms/step - accuracy: 0.9809 - loss: 0.0581"
     ]
    }
   ],
   "source": [
    "# ─── 7) TRAIN THE CNN MODEL ──────────────────────────────────────────────────\n",
    "print(\"\\n--- Starting Model Training ---\")\n",
    "history = model.fit(\n",
    "    X_train, y_train,\n",
    "    epochs=80,  # 25 epochs is a good starting point. 700 is likely too much and causes overfitting.\n",
    "    batch_size=32,\n",
    "    validation_data=(X_test, y_test), # Evaluate on test data at the end of each epoch\n",
    "    verbose=1 # Show progress\n",
    ")\n",
    "print(\"--- Model Training Finished ---\\n\")\n",
    "model.save('exoplanet_cnn_model.keras')\n",
    "print(\"Model saved to exoplanet_cnn_model.pth\")"
   ]
  },
  {
   "cell_type": "code",
   "execution_count": null,
   "id": "367a26d7-ed65-44bd-b71b-4644e1c46bc3",
   "metadata": {},
   "outputs": [],
   "source": [
    "\n",
    "\n",
    "\n",
    "# ─── 8) PLOT TRAINING & VALIDATION CURVES ───────────────────────────────────\n",
    "plt.figure(figsize=(10, 5))\n",
    "\n",
    "# Plot training & validation accuracy values\n",
    "plt.subplot(1, 2, 1)\n",
    "plt.plot(history.history['accuracy'], label='Training Accuracy')\n",
    "plt.plot(history.history['val_accuracy'], label='Validation Accuracy')\n",
    "plt.title('Model Accuracy')\n",
    "plt.ylabel('Accuracy')\n",
    "plt.xlabel('Epoch')\n",
    "plt.legend(loc='lower right')\n",
    "plt.grid(True)\n",
    "\n",
    "# Plot training & validation loss values\n",
    "plt.subplot(1, 2, 2)\n",
    "plt.plot(history.history['loss'], label='Training Loss')\n",
    "plt.plot(history.history['val_loss'], label='Validation Loss')\n",
    "plt.title('Model Loss')\n",
    "plt.ylabel('Loss')\n",
    "plt.xlabel('Epoch')\n",
    "plt.legend(loc='upper right')\n",
    "plt.grid(True)\n",
    "\n",
    "plt.tight_layout()\n",
    "plt.savefig(\"training_curves.png\")\n",
    "plt.show()\n",
    "\n",
    "\n",
    "# ─── 9) EVALUATE ON TEST SET ─────────────────────────────────────────────────\n",
    "# Get final performance metrics on the test set\n",
    "loss, acc = model.evaluate(X_test, y_test, verbose=0)\n",
    "print(f\"Test Accuracy: {acc:.3%}\")\n",
    "\n",
    "# Get predictions: `predict` gives probabilities, so we round to get 0 or 1\n",
    "y_scores = model.predict(X_test).flatten() # a.k.a. y_proba\n",
    "y_pred = np.round(y_scores)                # Class predictions\n",
    "\n",
    "\n",
    "# ─── 10) ROC CURVE ───────────────────────────────────────────────────────────\n",
    "fpr, tpr, _ = roc_curve(y_test, y_scores)\n",
    "roc_auc = auc(fpr, tpr)\n",
    "\n",
    "plt.figure(figsize=(6, 5))\n",
    "plt.plot(fpr, tpr, label=f\"AUC = {roc_auc:.3f}\")\n",
    "plt.plot([0, 1], [0, 1], 'k--', alpha=0.4)\n",
    "plt.xlabel(\"False Positive Rate\")\n",
    "plt.ylabel(\"True Positive Rate\")\n",
    "plt.title(\"ROC Curve: Exoplanet vs. Not\")\n",
    "plt.legend(loc='lower right')\n",
    "plt.grid(True)\n",
    "plt.tight_layout()\n",
    "#plt.savefig(\"roc_curve.png\")\n",
    "plt.show()\n",
    "\n",
    "# ─── 11) CONFUSION MATRIX ───────────────────────────────────────────────────\n",
    "# We can use sklearn's display function, but we'll create the matrix manually\n",
    "# to show how it's done with Keras predictions.\n",
    "cm = confusion_matrix(y_test, y_pred)\n",
    "disp = ConfusionMatrixDisplay(\n",
    "    confusion_matrix=cm,\n",
    "    display_labels=[\"not exoplanet\", \"exoplanet\"]\n",
    ")\n",
    "disp.plot(cmap=plt.cm.Blues)\n",
    "plt.title(\"Confusion Matrix\")\n",
    "plt.tight_layout()\n",
    "plt.savefig(\"confusion_matrix.png\")\n",
    "plt.show()"
   ]
  },
  {
   "cell_type": "code",
   "execution_count": null,
   "id": "fbabf46b-f496-4b14-97f9-19098a789e38",
   "metadata": {},
   "outputs": [],
   "source": [
    "### Testing the model ###"
   ]
  },
  {
   "cell_type": "code",
   "execution_count": null,
   "id": "209c33c8-ed6f-49c9-a7cd-1e3d4079d2c6",
   "metadata": {},
   "outputs": [],
   "source": [
    "\n",
    "# ==============================================================================\n",
    "#   LOAD THE TRAINED KERAS MODEL\n",
    "# ==============================================================================\n",
    "model = tf.keras.models.load_model('exoplanet_cnn_model.keras')\n",
    "print(\"Loaded TensorFlow model successfully!\")\n",
    "\n",
    "# ==============================================================================\n",
    "#  3. PREDICTION FUNCTION\n",
    "# ==============================================================================\n",
    "def predict_single_image_tf(model, image_path, class_names):\n",
    "    \"\"\"Preprocess and predict a single grayscale image.\"\"\"\n",
    "    img = Image.open(image_path).convert('L').resize((32, 32), Image.Resampling.LANCZOS)\n",
    "    arr = np.array(img, dtype=np.float32) / 255.0\n",
    "    tensor = arr.reshape((1, 32, 32, 1))\n",
    "    \n",
    "    prob = model.predict(tensor, verbose=0).item()\n",
    "    idx = int(prob > 0.5)\n",
    "    label = class_names[idx]\n",
    "    \n",
    "    print(f\"Image: {image_path}\")\n",
    "    print(f\"Predicted: {label} (confidence: {prob:.4f})\")\n",
    "    \n",
    "    plt.imshow(arr, cmap='gray')\n",
    "    plt.title(f\"{label} ({prob:.2f})\")\n",
    "    plt.axis('off')\n",
    "    plt.show()\n",
    "\n",
    "# ==============================================================================\n",
    "#  4. TEST EXAMPLES\n",
    "# ==============================================================================\n",
    "class_names = ['non-exoplanet','exoplanet']\n",
    "test_images = ['.\\\\tests\\\\test_exo.png','.\\\\tests\\\\exoplanet.png', '.\\\\tests\\\\test_normal.png','.\\\\tests\\\\normal.png','.\\\\tests\\\\binary.png','.\\\\tests_\\\\pulsating.png','.\\\\tests\\\\test.png']\n",
    "\n",
    "for img_path in test_images:\n",
    "    print(\"\\n--- Prediction ---\")\n",
    "    predict_single_image_tf(model, img_path, class_names)"
   ]
  }
 ],
 "metadata": {
  "kernelspec": {
   "display_name": "Python 3 (ipykernel)",
   "language": "python",
   "name": "python3"
  },
  "language_info": {
   "codemirror_mode": {
    "name": "ipython",
    "version": 3
   },
   "file_extension": ".py",
   "mimetype": "text/x-python",
   "name": "python",
   "nbconvert_exporter": "python",
   "pygments_lexer": "ipython3",
   "version": "3.11.13"
  }
 },
 "nbformat": 4,
 "nbformat_minor": 5
}
